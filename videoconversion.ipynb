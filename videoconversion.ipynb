{
 "cells": [
  {
   "cell_type": "code",
   "execution_count": 2,
   "id": "66ea7100-ec28-402e-b704-50ea50237344",
   "metadata": {},
   "outputs": [
    {
     "name": "stdout",
     "output_type": "stream",
     "text": [
      "Collecting opencv-python\n",
      "  Using cached opencv_python-4.10.0.84-cp37-abi3-win_amd64.whl.metadata (20 kB)\n",
      "Requirement already satisfied: numpy>=1.21.2 in c:\\users\\aravi\\anaconda3\\lib\\site-packages (from opencv-python) (1.26.4)\n",
      "Using cached opencv_python-4.10.0.84-cp37-abi3-win_amd64.whl (38.8 MB)\n",
      "Installing collected packages: opencv-python\n",
      "Successfully installed opencv-python-4.10.0.84\n",
      "Note: you may need to restart the kernel to use updated packages.\n"
     ]
    }
   ],
   "source": [
    "pip install opencv-python"
   ]
  },
  {
   "cell_type": "code",
   "execution_count": 8,
   "id": "9a40c725-62b4-459c-ab7a-1f8961e2c2d7",
   "metadata": {},
   "outputs": [
    {
     "name": "stdout",
     "output_type": "stream",
     "text": [
      "Requirement already satisfied: torch in c:\\users\\aravi\\anaconda3\\lib\\site-packages (2.4.1)\n",
      "Requirement already satisfied: filelock in c:\\users\\aravi\\anaconda3\\lib\\site-packages (from torch) (3.13.1)\n",
      "Requirement already satisfied: typing-extensions>=4.8.0 in c:\\users\\aravi\\anaconda3\\lib\\site-packages (from torch) (4.11.0)\n",
      "Requirement already satisfied: sympy in c:\\users\\aravi\\anaconda3\\lib\\site-packages (from torch) (1.12)\n",
      "Requirement already satisfied: networkx in c:\\users\\aravi\\anaconda3\\lib\\site-packages (from torch) (3.2.1)\n",
      "Requirement already satisfied: jinja2 in c:\\users\\aravi\\anaconda3\\lib\\site-packages (from torch) (3.1.4)\n",
      "Requirement already satisfied: fsspec in c:\\users\\aravi\\anaconda3\\lib\\site-packages (from torch) (2024.3.1)\n",
      "Requirement already satisfied: setuptools in c:\\users\\aravi\\anaconda3\\lib\\site-packages (from torch) (69.5.1)\n",
      "Requirement already satisfied: MarkupSafe>=2.0 in c:\\users\\aravi\\anaconda3\\lib\\site-packages (from jinja2->torch) (2.1.3)\n",
      "Requirement already satisfied: mpmath>=0.19 in c:\\users\\aravi\\anaconda3\\lib\\site-packages (from sympy->torch) (1.3.0)\n",
      "Note: you may need to restart the kernel to use updated packages.\n"
     ]
    }
   ],
   "source": [
    "pip install torch"
   ]
  },
  {
   "cell_type": "code",
   "execution_count": 4,
   "id": "fe19212d-0e1a-4689-b5f6-eecb4f64a02d",
   "metadata": {},
   "outputs": [
    {
     "name": "stdout",
     "output_type": "stream",
     "text": [
      "Collecting torchvision\n",
      "  Downloading torchvision-0.19.1-cp312-cp312-win_amd64.whl.metadata (6.1 kB)\n",
      "Requirement already satisfied: numpy in c:\\users\\aravi\\anaconda3\\lib\\site-packages (from torchvision) (1.26.4)\n",
      "Requirement already satisfied: torch==2.4.1 in c:\\users\\aravi\\anaconda3\\lib\\site-packages (from torchvision) (2.4.1)\n",
      "Requirement already satisfied: pillow!=8.3.*,>=5.3.0 in c:\\users\\aravi\\anaconda3\\lib\\site-packages (from torchvision) (10.3.0)\n",
      "Requirement already satisfied: filelock in c:\\users\\aravi\\anaconda3\\lib\\site-packages (from torch==2.4.1->torchvision) (3.13.1)\n",
      "Requirement already satisfied: typing-extensions>=4.8.0 in c:\\users\\aravi\\anaconda3\\lib\\site-packages (from torch==2.4.1->torchvision) (4.11.0)\n",
      "Requirement already satisfied: sympy in c:\\users\\aravi\\anaconda3\\lib\\site-packages (from torch==2.4.1->torchvision) (1.12)\n",
      "Requirement already satisfied: networkx in c:\\users\\aravi\\anaconda3\\lib\\site-packages (from torch==2.4.1->torchvision) (3.2.1)\n",
      "Requirement already satisfied: jinja2 in c:\\users\\aravi\\anaconda3\\lib\\site-packages (from torch==2.4.1->torchvision) (3.1.4)\n",
      "Requirement already satisfied: fsspec in c:\\users\\aravi\\anaconda3\\lib\\site-packages (from torch==2.4.1->torchvision) (2024.3.1)\n",
      "Requirement already satisfied: setuptools in c:\\users\\aravi\\anaconda3\\lib\\site-packages (from torch==2.4.1->torchvision) (69.5.1)\n",
      "Requirement already satisfied: MarkupSafe>=2.0 in c:\\users\\aravi\\anaconda3\\lib\\site-packages (from jinja2->torch==2.4.1->torchvision) (2.1.3)\n",
      "Requirement already satisfied: mpmath>=0.19 in c:\\users\\aravi\\anaconda3\\lib\\site-packages (from sympy->torch==2.4.1->torchvision) (1.3.0)\n",
      "Downloading torchvision-0.19.1-cp312-cp312-win_amd64.whl (1.3 MB)\n",
      "   ---------------------------------------- 0.0/1.3 MB ? eta -:--:--\n",
      "   ---------------------------------------- 0.0/1.3 MB ? eta -:--:--\n",
      "   ---------------------------------------- 0.0/1.3 MB ? eta -:--:--\n",
      "   ---------------------------------------- 0.0/1.3 MB ? eta -:--:--\n",
      "   ---------------------------------------- 0.0/1.3 MB ? eta -:--:--\n",
      "   ---------------------------------------- 0.0/1.3 MB ? eta -:--:--\n",
      "    --------------------------------------- 0.0/1.3 MB 330.3 kB/s eta 0:00:04\n",
      "   - -------------------------------------- 0.1/1.3 MB 365.7 kB/s eta 0:00:04\n",
      "   --- ------------------------------------ 0.1/1.3 MB 554.9 kB/s eta 0:00:03\n",
      "   ------ --------------------------------- 0.2/1.3 MB 737.3 kB/s eta 0:00:02\n",
      "   -------- ------------------------------- 0.3/1.3 MB 896.4 kB/s eta 0:00:02\n",
      "   ----------- ---------------------------- 0.4/1.3 MB 1.0 MB/s eta 0:00:01\n",
      "   ------------- -------------------------- 0.4/1.3 MB 1.0 MB/s eta 0:00:01\n",
      "   --------------- ------------------------ 0.5/1.3 MB 1.1 MB/s eta 0:00:01\n",
      "   ------------------- -------------------- 0.6/1.3 MB 1.2 MB/s eta 0:00:01\n",
      "   ---------------------- ----------------- 0.7/1.3 MB 1.3 MB/s eta 0:00:01\n",
      "   ------------------------- -------------- 0.8/1.3 MB 1.3 MB/s eta 0:00:01\n",
      "   ---------------------------- ----------- 0.9/1.3 MB 1.4 MB/s eta 0:00:01\n",
      "   ------------------------------- -------- 1.0/1.3 MB 1.5 MB/s eta 0:00:01\n",
      "   ------------------------------------ --- 1.2/1.3 MB 1.6 MB/s eta 0:00:01\n",
      "   -------------------------------------- - 1.2/1.3 MB 1.6 MB/s eta 0:00:01\n",
      "   ---------------------------------------- 1.3/1.3 MB 1.6 MB/s eta 0:00:00\n",
      "Installing collected packages: torchvision\n",
      "Successfully installed torchvision-0.19.1\n",
      "Note: you may need to restart the kernel to use updated packages.\n"
     ]
    }
   ],
   "source": [
    "pip install torchvision"
   ]
  },
  {
   "cell_type": "code",
   "execution_count": 5,
   "id": "4341fdc8-8542-411a-9b14-a155dde860f7",
   "metadata": {},
   "outputs": [
    {
     "name": "stdout",
     "output_type": "stream",
     "text": [
      "Collecting moviepy\n",
      "  Using cached moviepy-1.0.3.tar.gz (388 kB)\n",
      "  Preparing metadata (setup.py): started\n",
      "  Preparing metadata (setup.py): finished with status 'done'\n",
      "Collecting decorator<5.0,>=4.0.2 (from moviepy)\n",
      "  Using cached decorator-4.4.2-py2.py3-none-any.whl.metadata (4.2 kB)\n",
      "Requirement already satisfied: imageio<3.0,>=2.5 in c:\\users\\aravi\\anaconda3\\lib\\site-packages (from moviepy) (2.33.1)\n",
      "Collecting imageio_ffmpeg>=0.2.0 (from moviepy)\n",
      "  Using cached imageio_ffmpeg-0.5.1-py3-none-win_amd64.whl.metadata (1.6 kB)\n",
      "Requirement already satisfied: tqdm<5.0,>=4.11.2 in c:\\users\\aravi\\anaconda3\\lib\\site-packages (from moviepy) (4.66.4)\n",
      "Requirement already satisfied: numpy>=1.17.3 in c:\\users\\aravi\\anaconda3\\lib\\site-packages (from moviepy) (1.26.4)\n",
      "Requirement already satisfied: requests<3.0,>=2.8.1 in c:\\users\\aravi\\anaconda3\\lib\\site-packages (from moviepy) (2.32.2)\n",
      "Collecting proglog<=1.0.0 (from moviepy)\n",
      "  Using cached proglog-0.1.10-py3-none-any.whl.metadata (639 bytes)\n",
      "Requirement already satisfied: pillow>=8.3.2 in c:\\users\\aravi\\anaconda3\\lib\\site-packages (from imageio<3.0,>=2.5->moviepy) (10.3.0)\n",
      "Requirement already satisfied: setuptools in c:\\users\\aravi\\anaconda3\\lib\\site-packages (from imageio_ffmpeg>=0.2.0->moviepy) (69.5.1)\n",
      "Requirement already satisfied: charset-normalizer<4,>=2 in c:\\users\\aravi\\anaconda3\\lib\\site-packages (from requests<3.0,>=2.8.1->moviepy) (2.0.4)\n",
      "Requirement already satisfied: idna<4,>=2.5 in c:\\users\\aravi\\anaconda3\\lib\\site-packages (from requests<3.0,>=2.8.1->moviepy) (3.7)\n",
      "Requirement already satisfied: urllib3<3,>=1.21.1 in c:\\users\\aravi\\anaconda3\\lib\\site-packages (from requests<3.0,>=2.8.1->moviepy) (2.2.2)\n",
      "Requirement already satisfied: certifi>=2017.4.17 in c:\\users\\aravi\\anaconda3\\lib\\site-packages (from requests<3.0,>=2.8.1->moviepy) (2024.8.30)\n",
      "Requirement already satisfied: colorama in c:\\users\\aravi\\anaconda3\\lib\\site-packages (from tqdm<5.0,>=4.11.2->moviepy) (0.4.6)\n",
      "Using cached decorator-4.4.2-py2.py3-none-any.whl (9.2 kB)\n",
      "Using cached imageio_ffmpeg-0.5.1-py3-none-win_amd64.whl (22.6 MB)\n",
      "Using cached proglog-0.1.10-py3-none-any.whl (6.1 kB)\n",
      "Building wheels for collected packages: moviepy\n",
      "  Building wheel for moviepy (setup.py): started\n",
      "  Building wheel for moviepy (setup.py): finished with status 'done'\n",
      "  Created wheel for moviepy: filename=moviepy-1.0.3-py3-none-any.whl size=110765 sha256=c8963e0f71963adc6bbb9eb2da20e378979bb9b4f6b72e24eaf92fd5ee2b208a\n",
      "  Stored in directory: c:\\users\\aravi\\appdata\\local\\pip\\cache\\wheels\\df\\ba\\4b\\0917fc0c8833c8ba7016565fc975b74c67bc8610806e930272\n",
      "Successfully built moviepy\n",
      "Installing collected packages: imageio_ffmpeg, decorator, proglog, moviepy\n",
      "  Attempting uninstall: decorator\n",
      "    Found existing installation: decorator 5.1.1\n",
      "    Uninstalling decorator-5.1.1:\n",
      "      Successfully uninstalled decorator-5.1.1\n",
      "Successfully installed decorator-4.4.2 imageio_ffmpeg-0.5.1 moviepy-1.0.3 proglog-0.1.10\n",
      "Note: you may need to restart the kernel to use updated packages.\n"
     ]
    }
   ],
   "source": [
    "pip install moviepy"
   ]
  },
  {
   "cell_type": "code",
   "execution_count": 1,
   "id": "6993f01b-3267-4bc2-aa0e-b88ab28d340a",
   "metadata": {},
   "outputs": [
    {
     "name": "stderr",
     "output_type": "stream",
     "text": [
      "Using cache found in C:\\Users\\aravi/.cache\\torch\\hub\\ultralytics_yolov5_master\n"
     ]
    },
    {
     "name": "stdout",
     "output_type": "stream",
     "text": [
      "\u001b[31m\u001b[1mrequirements:\u001b[0m Ultralytics requirement ['setuptools>=70.0.0'] not found, attempting AutoUpdate...\n",
      "Collecting setuptools>=70.0.0\n",
      "  Downloading setuptools-74.1.2-py3-none-any.whl.metadata (6.7 kB)\n",
      "Downloading setuptools-74.1.2-py3-none-any.whl (1.3 MB)\n",
      "   ---------------------------------------- 1.3/1.3 MB 1.4 MB/s eta 0:00:0002\n",
      "Installing collected packages: setuptools\n",
      "  Attempting uninstall: setuptools\n",
      "    Found existing installation: setuptools 69.5.1\n",
      "    Uninstalling setuptools-69.5.1:\n",
      "      Successfully uninstalled setuptools-69.5.1\n",
      "Successfully installed setuptools-74.1.2\n",
      "\n",
      "\u001b[31m\u001b[1mrequirements:\u001b[0m AutoUpdate success  31.5s, installed 1 package: ['setuptools>=70.0.0']\n",
      "\u001b[31m\u001b[1mrequirements:\u001b[0m  \u001b[1mRestart runtime or rerun command for updates to take effect\u001b[0m\n",
      "\n"
     ]
    },
    {
     "name": "stderr",
     "output_type": "stream",
     "text": [
      "YOLOv5  2024-9-14 Python-3.12.4 torch-2.4.1+cpu CPU\n",
      "\n",
      "Fusing layers... \n",
      "YOLOv5s summary: 213 layers, 7225885 parameters, 0 gradients, 16.4 GFLOPs\n",
      "Adding AutoShape... \n"
     ]
    },
    {
     "name": "stdout",
     "output_type": "stream",
     "text": [
      "Moviepy - Building video output.mp4.\n",
      "MoviePy - Writing audio in outputTEMP_MPY_wvf_snd.mp4\n"
     ]
    },
    {
     "name": "stderr",
     "output_type": "stream",
     "text": [
      "                                                                   \r"
     ]
    },
    {
     "name": "stdout",
     "output_type": "stream",
     "text": [
      "MoviePy - Done.\n",
      "Moviepy - Writing video output.mp4\n",
      "\n"
     ]
    },
    {
     "name": "stderr",
     "output_type": "stream",
     "text": [
      "                                                              \r"
     ]
    },
    {
     "name": "stdout",
     "output_type": "stream",
     "text": [
      "Moviepy - Done !\n",
      "Moviepy - video ready output.mp4\n"
     ]
    }
   ],
   "source": [
    "import cv2\n",
    "import torch  # PyTorch for YOLO\n",
    "import numpy as np\n",
    "from moviepy.editor import VideoFileClip\n",
    "\n",
    "# Load YOLO model (e.g., YOLOv5)\n",
    "model = torch.hub.load('ultralytics/yolov5', 'yolov5s')  # Use YOLOv5 small version (YOLOv5s)\n",
    "\n",
    "def detect_objects(frame):\n",
    "    # Use YOLO to detect objects in the frame\n",
    "    results = model(frame)\n",
    "    # Get bounding boxes, confidence scores, and classes\n",
    "    boxes = results.xyxy[0].numpy()  # x1, y1, x2, y2, confidence, class\n",
    "    return boxes\n",
    "\n",
    "def process_frame(frame, target_width=1080, target_height=1920):\n",
    "    # Detect objects in the current frame\n",
    "    boxes = detect_objects(frame)\n",
    "\n",
    "    if len(boxes) > 0:\n",
    "        # Select the largest object (you can modify this logic based on your needs)\n",
    "        largest_box = max(boxes, key=lambda box: (box[2] - box[0]) * (box[3] - box[1]))\n",
    "\n",
    "        # Get coordinates of the largest object\n",
    "        x1, y1, x2, y2, _, _ = largest_box\n",
    "        x1, y1, x2, y2 = int(x1), int(y1), int(x2), int(y2)\n",
    "\n",
    "        # Calculate center of the object\n",
    "        center_x = (x1 + x2) // 2\n",
    "        center_y = (y1 + y2) // 2\n",
    "\n",
    "        # Determine cropping area to ensure the object is in the center of the vertical video\n",
    "        crop_x1 = max(0, center_x - target_width // 2)\n",
    "        crop_y1 = max(0, center_y - target_height // 2)\n",
    "        crop_x2 = min(frame.shape[1], crop_x1 + target_width)\n",
    "        crop_y2 = min(frame.shape[0], crop_y1 + target_height)\n",
    "\n",
    "        # Crop the frame to vertical format\n",
    "        cropped_frame = frame[crop_y1:crop_y2, crop_x1:crop_x2]\n",
    "\n",
    "        # Resize the cropped frame to target size\n",
    "        resized_frame = cv2.resize(cropped_frame, (target_width, target_height))\n",
    "        return resized_frame\n",
    "    else:\n",
    "        # If no object is detected, return resized original frame\n",
    "        return cv2.resize(frame, (target_width, target_height))\n",
    "\n",
    "def convert_video_to_vertical(input_video_path, output_video_path):\n",
    "    # Load the input video using moviepy\n",
    "    clip = VideoFileClip(input_video_path)\n",
    "    \n",
    "    # Define the process function for each frame\n",
    "    def process_frame_wrapper(frame):\n",
    "        frame_rgb = cv2.cvtColor(frame, cv2.COLOR_BGR2RGB)  # Convert to RGB for OpenCV\n",
    "        processed_frame = process_frame(frame_rgb)\n",
    "        return cv2.cvtColor(processed_frame, cv2.COLOR_RGB2BGR)  # Convert back to BGR for moviepy\n",
    "    \n",
    "    # Apply the process function to each frame of the video\n",
    "    new_clip = clip.fl_image(process_frame_wrapper)\n",
    "    \n",
    "    # Write the new vertical video to output file\n",
    "    new_clip.write_videofile(output_video_path, codec=\"libx264\", audio_codec=\"aac\")\n",
    "\n",
    "# Example usage\n",
    "input_video = \"input.mp4\"\n",
    "output_video = \"output.mp4\"\n",
    "convert_video_to_vertical(input_video, output_video)"
   ]
  },
  {
   "cell_type": "code",
   "execution_count": null,
   "id": "cc29a84e-f1bc-474a-b1be-9f610a804e6f",
   "metadata": {},
   "outputs": [],
   "source": []
  }
 ],
 "metadata": {
  "kernelspec": {
   "display_name": "Python 3 (ipykernel)",
   "language": "python",
   "name": "python3"
  },
  "language_info": {
   "codemirror_mode": {
    "name": "ipython",
    "version": 3
   },
   "file_extension": ".py",
   "mimetype": "text/x-python",
   "name": "python",
   "nbconvert_exporter": "python",
   "pygments_lexer": "ipython3",
   "version": "3.12.4"
  }
 },
 "nbformat": 4,
 "nbformat_minor": 5
}
